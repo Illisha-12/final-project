{
 "cells": [
  {
   "cell_type": "markdown",
   "metadata": {},
   "source": [
    "# Question 10: Python program to establish the database tables in MySQL"
   ]
  },
  {
   "cell_type": "code",
   "execution_count": 2,
   "metadata": {
    "scrolled": false
   },
   "outputs": [
    {
     "name": "stdout",
     "output_type": "stream",
     "text": [
      "('DatabaseName',)\n",
      "('information_schema',)\n",
      "('Laxmi',)\n",
      "('MyDatabase',)\n",
      "('MyNewDatabase',)\n",
      "('mysql',)\n",
      "('NewDatabase',)\n",
      "('performance_schema',)\n",
      "('sys',)\n",
      "('termproject',)\n",
      "('TwDatabase',)\n",
      "('TwDbase',)\n",
      "('TweetDataBASE',)\n",
      "('TweetDBASE',)\n",
      "('twitter',)\n",
      "('TwitterDBASE',)\n",
      "('user',)\n"
     ]
    }
   ],
   "source": [
    "import mysql.connector\n",
    "\n",
    "connectionInstance = mysql.connector.connect(\n",
    "     host= \"127.0.0.1\", \n",
    "     user= \"root\",\n",
    "     password= \"waiwai3232\")\n",
    "\n",
    "cursor = connectionInstance.cursor()\n",
    "cursor.execute(\"CREATE DATABASE termproject\")\n",
    "\n",
    "cursor.execute(\"SHOW DATABASES\")\n",
    "\n",
    "for y in cursor:\n",
    "    print(y)"
   ]
  },
  {
   "cell_type": "code",
   "execution_count": 9,
   "metadata": {},
   "outputs": [],
   "source": [
    "#connecting the database with \"termproject\"\n",
    "import mysql.connector\n",
    "\n",
    "mydatabase = mysql.connector.connect(\n",
    "     host= \"127.0.0.1\", \n",
    "     user= \"root\",\n",
    "     password= \"waiwai3232\",\n",
    "     database= \"termproject\")\n",
    "\n",
    "# now create the Table termproject\n",
    "\n",
    "cursor = mydatabase.cursor()\n",
    "cursor.execute(\"CREATE TABLE MENTAL_PROBLEMS(MENTAL_HEALTH_ID char(50),SERVICE_ID char(50),RESOURCE_ID char(50),STUDENT_ID CHAR(50),DEPRESSION char(50),PANIC_DISORDER char(50),EATING_DISORDER char(50),ANXIETY char(50))\")\n",
    "for Y in cursor:\n",
    "    print(Y)"
   ]
  },
  {
   "cell_type": "code",
   "execution_count": 22,
   "metadata": {},
   "outputs": [],
   "source": [
    "#connecting the database with \"termproject\"\n",
    "import mysql.connector\n",
    "\n",
    "mydatabase = mysql.connector.connect(\n",
    "     host= \"127.0.0.1\", \n",
    "     user= \"root\",\n",
    "     password= \"waiwai3232\",\n",
    "     database= \"termproject\")\n",
    "\n",
    "# now create the Table termproject\n",
    "\n",
    "cursor = mydatabase.cursor()\n",
    "cursor.execute(\"CREATE TABLE SERVICE(SERVICE_ID char(50),SERVICE_TYPE_ID char(50),MENTAL_HEALTH_ID char(50),PRIMARY_CARE char(50),SERVICE_NAME char(50),SERVICE_DESCRIPTION char(200),PHARMACY char(100))\")\n",
    "for Y in cursor:\n",
    "    print(Y)"
   ]
  },
  {
   "cell_type": "code",
   "execution_count": 3,
   "metadata": {},
   "outputs": [],
   "source": [
    "#connecting the database with \"termproject\"\n",
    "import mysql.connector\n",
    "\n",
    "mydatabase = mysql.connector.connect(\n",
    "     host= \"127.0.0.1\", \n",
    "     user= \"root\",\n",
    "     password= \"waiwai3232\",\n",
    "     database= \"termproject\")\n",
    "\n",
    "# now create the Table termproject\n",
    "\n",
    "cursor = mydatabase.cursor()\n",
    "cursor.execute(\"CREATE TABLE SERVICE_TYPE(SERVICE_TYPE_ID char(50),SERVICE_ID char(50),PATIENT_SERVICES char(250))\")\n",
    "\n",
    "for Y in cursor:\n",
    "    print(Y)"
   ]
  },
  {
   "cell_type": "code",
   "execution_count": 25,
   "metadata": {},
   "outputs": [],
   "source": [
    "#connecting the database with \"termproject\"\n",
    "import mysql.connector\n",
    "\n",
    "mydatabase = mysql.connector.connect(\n",
    "     host= \"127.0.0.1\", \n",
    "     user= \"root\",\n",
    "     password= \"waiwai3232\",\n",
    "     database= \"termproject\")\n",
    "\n",
    "# now create the Table termproject\n",
    "\n",
    "cursor = mydatabase.cursor()\n",
    "cursor.execute(\"CREATE TABLE RESOURCE_TYPES(RESOURCE_ID char(50),RESOURCE_TYPE_ID char(50),EMERGENCY_PHONE_NUMBER char(100),STUDENT_SUPPORT_SERVICES char(100),GRADUATE_PERSONAL_SUPPORT char(100),GROUP_COUNSELING char(100),EMPLOYEE_SUPPORT_PROGRAMS char(100),PSYCHOLOGY_TRAINING char(200),FQAs char(100),USEFUL_LINKS char(100))\")\n",
    "\n",
    "for Y in cursor:\n",
    "    print(Y)               "
   ]
  },
  {
   "cell_type": "code",
   "execution_count": 9,
   "metadata": {},
   "outputs": [],
   "source": [
    "#connecting the database with \"termproject\"\n",
    "import mysql.connector\n",
    "\n",
    "mydatabase = mysql.connector.connect(\n",
    "     host= \"127.0.0.1\", \n",
    "     user= \"root\",\n",
    "     password= \"waiwai3232\",\n",
    "     database= \"termproject\")\n",
    "\n",
    "# now create the Table termproject\n",
    "\n",
    "cursor = mydatabase.cursor()\n",
    "cursor.execute(\"CREATE TABLE Re_sources(RESOURCE_ID char(50),RESOURCE_TYPE_ID char(50),STUDENT_ID char(50),RESOURCE_NAME char(200),RESOURCE_DESCRIPTION char(250),RESOURCE_URL char(200))\")\n",
    "\n",
    "for Y in cursor:\n",
    "    print(Y) "
   ]
  },
  {
   "cell_type": "code",
   "execution_count": 16,
   "metadata": {},
   "outputs": [],
   "source": [
    "#connecting the database with \"termproject\"\n",
    "import mysql.connector\n",
    "\n",
    "mydatabase = mysql.connector.connect(\n",
    "     host= \"127.0.0.1\", \n",
    "     user= \"root\",\n",
    "     password= \"waiwai3232\",\n",
    "     database= \"termproject\")\n",
    "\n",
    "# now create the Table termproject\n",
    "\n",
    "cursor = mydatabase.cursor()\n",
    "cursor.execute(\"CREATE TABLE STUDENTs(STUDENT_ID CHAR(50),MENTAL_HEALTH_ID CHAR(50),AGE CHAR(50),RACE CHAR(100),GENDER CHAR(200),GPA CHAR(100))\")\n",
    "               \n",
    "for Y in cursor:\n",
    "    print(Y)               "
   ]
  },
  {
   "cell_type": "markdown",
   "metadata": {},
   "source": [
    "# Question 11: Python program to add information from the website to your database"
   ]
  },
  {
   "cell_type": "code",
   "execution_count": 11,
   "metadata": {},
   "outputs": [
    {
     "name": "stdout",
     "output_type": "stream",
     "text": [
      "1 ('1', '11', '111', '01', '14', '2', '8', '3')\n"
     ]
    }
   ],
   "source": [
    "import mysql.connector\n",
    "\n",
    "mydatabase = mysql.connector.connect(\n",
    "     host= \"127.0.0.1\", \n",
    "     user= \"root\",\n",
    "     password= \"waiwai3232\",\n",
    "     database= \"termproject\")\n",
    "\n",
    "cursor = mydatabase.cursor()\n",
    "\n",
    "# Based on the study of 'Mental Health and academic success in college' Percentage of student suffering from depression, panic disorder, eating disorder and anxiety\n",
    "\n",
    "sql_query = \"INSERT INTO MENTAL_PROBLEMS(MENTAL_HEALTH_ID,SERVICE_ID,RESOURCE_ID,STUDENT_ID,DEPRESSION,PANIC_DISORDER,EATING_DISORDER,ANXIETY)VALUES (%s,%s,%s,%s,%s,%s,%s,%s)\"\n",
    "value = (\"1\",\"11\",\"111\",\"01\",\"14\",\"2\",\"8\",\"3\")\n",
    "cursor.execute(sql_query, value)\n",
    "\n",
    "mydatabase.commit()\n",
    "print(cursor.rowcount, value)"
   ]
  },
  {
   "cell_type": "code",
   "execution_count": 23,
   "metadata": {},
   "outputs": [
    {
     "name": "stdout",
     "output_type": "stream",
     "text": [
      "1 ('11', '01', '1', 'comprehensive', 'Student Mental Health & Counseling', 'Routine physicals,Diagnosis and treatment of illnesses,Management of chronic conditions,Routine health screenings,Preventive care,Care coordination', 'MIT Pharmacy serves')\n"
     ]
    }
   ],
   "source": [
    "import mysql.connector\n",
    "\n",
    "mydatabase = mysql.connector.connect(\n",
    "     host= \"127.0.0.1\", \n",
    "     user= \"root\",\n",
    "     password= \"waiwai3232\",\n",
    "     database= \"termproject\")\n",
    "\n",
    "cursor = mydatabase.cursor()\n",
    "\n",
    "# inserting the single row\n",
    "\n",
    "sql_query = \"INSERT INTO SERVICE(SERVICE_ID,SERVICE_TYPE_ID,MENTAL_HEALTH_ID,PRIMARY_CARE,SERVICE_NAME,SERVICE_DESCRIPTION,PHARMACY)VALUES(%s,%s,%s,%s,%s,%s,%s)\"\n",
    "value = (\"11\",\"01\",\"1\",\"comprehensive\",\"Student Mental Health & Counseling\",\"Routine physicals,Diagnosis and treatment of illnesses,Management of chronic conditions,Routine health screenings,Preventive care,Care coordination\",\"MIT Pharmacy serves\")\n",
    "cursor.execute(sql_query, value)\n",
    "\n",
    "mydatabase.commit()\n",
    "print(cursor.rowcount, value)"
   ]
  },
  {
   "cell_type": "code",
   "execution_count": 4,
   "metadata": {},
   "outputs": [
    {
     "name": "stdout",
     "output_type": "stream",
     "text": [
      "1 ('01', '01', 'evaluations consulations, brief treatment, referal nonMIT medical clinicians, urgent care, let chat, group counseling, advice')\n"
     ]
    }
   ],
   "source": [
    "import mysql.connector\n",
    "\n",
    "mydatabase = mysql.connector.connect(\n",
    "     host= \"127.0.0.1\", \n",
    "     user= \"root\",\n",
    "     password= \"waiwai3232\",\n",
    "     database= \"termproject\")\n",
    "\n",
    "cursor = mydatabase.cursor()\n",
    "\n",
    "# inserting the values for SERVICE TYPES\n",
    "\n",
    "sql_query = \"INSERT INTO SERVICE_TYPE(SERVICE_TYPE_ID,SERVICE_ID,PATIENT_SERVICES) VALUES (%s,%s,%s)\"\n",
    "value = (\"01\",\"01\",\"evaluations consulations, brief treatment, referal nonMIT medical clinicians, urgent care, let chat, group counseling, advice\")\n",
    "cursor.execute(sql_query, value)\n",
    "\n",
    "mydatabase.commit()\n",
    "print(cursor.rowcount, value)"
   ]
  },
  {
   "cell_type": "code",
   "execution_count": 26,
   "metadata": {
    "scrolled": false
   },
   "outputs": [
    {
     "name": "stdout",
     "output_type": "stream",
     "text": [
      "1 ('001', '0001', 'Cambridge Health Alliance: 617-665-1560', '617-253-4861 Room 5-104', '617-253-4860 Room 3-138', 'ADHD Information and Skill Group for Graduate Students', 'MyLife Services', 'Student Mental Health and Counseling Services pre-doctoral practicum in clinical/counseling psychology', 'Antidepressants', 'Mental health and substance abuse benefits for MIT students')\n"
     ]
    }
   ],
   "source": [
    "import mysql.connector\n",
    "\n",
    "mydatabase = mysql.connector.connect(\n",
    "     host= \"127.0.0.1\", \n",
    "     user= \"root\",\n",
    "     password= \"waiwai3232\",\n",
    "     database= \"termproject\")\n",
    "\n",
    "cursor = mydatabase.cursor()\n",
    "\n",
    "# inserting the values of resource types \n",
    "\n",
    "sql_query = \"INSERT INTO RESOURCE_TYPES(RESOURCE_ID,RESOURCE_TYPE_ID,EMERGENCY_PHONE_NUMBER,STUDENT_SUPPORT_SERVICES,GRADUATE_PERSONAL_SUPPORT,GROUP_COUNSELING,EMPLOYEE_SUPPORT_PROGRAMS,PSYCHOLOGY_TRAINING,FQAs,USEFUL_LINKS)VALUES (%s,%s,%s,%s,%s,%s,%s,%s,%s,%s)\"\n",
    "value = (\"001\",\"0001\",\"Cambridge Health Alliance: 617-665-1560\",\"617-253-4861 Room 5-104\",\"617-253-4860 Room 3-138\",\"ADHD Information and Skill Group for Graduate Students\",\"MyLife Services\",\"Student Mental Health and Counseling Services pre-doctoral practicum in clinical/counseling psychology\",\"Antidepressants\",\"Mental health and substance abuse benefits for MIT students\")\n",
    "cursor.execute(sql_query, value)\n",
    "\n",
    "mydatabase.commit()\n",
    "print(cursor.rowcount, value)"
   ]
  },
  {
   "cell_type": "code",
   "execution_count": 12,
   "metadata": {
    "scrolled": true
   },
   "outputs": [
    {
     "name": "stdout",
     "output_type": "stream",
     "text": [
      "1 ('001', '0001', '01', 'Emergency Phone Numbers', 'MIT Medical Student Mental Health and Counseling,Massachusetts General Hospital Acute Psychiatric Services,Cambridge Health Alliance', 'Mental health and substance abuse benefits for MIT students,Mental health and substance abuse benefits for MIT employees,Ulifeline.org,Go Ask Alice!,MedlinePlus')\n"
     ]
    }
   ],
   "source": [
    "import mysql.connector\n",
    "\n",
    "mydatabase = mysql.connector.connect(\n",
    "     host= \"127.0.0.1\", \n",
    "     user= \"root\",\n",
    "     password= \"waiwai3232\",\n",
    "     database= \"termproject\")\n",
    "\n",
    "cursor = mydatabase.cursor()\n",
    "\n",
    "# inserting the resources information\n",
    "\n",
    "sql_query = \"INSERT INTO Re_sources(RESOURCE_ID,RESOURCE_TYPE_ID,STUDENT_ID,RESOURCE_NAME,RESOURCE_DESCRIPTION,RESOURCE_URL)VALUES (%s,%s,%s,%s,%s,%s)\"\n",
    "value = (\"001\",\"0001\",\"01\",\"Emergency Phone Numbers\",\"MIT Medical Student Mental Health and Counseling,Massachusetts General Hospital Acute Psychiatric Services,Cambridge Health Alliance\",\"Mental health and substance abuse benefits for MIT students,Mental health and substance abuse benefits for MIT employees,Ulifeline.org,Go Ask Alice!,MedlinePlus\")\n",
    "cursor.execute(sql_query, value)\n",
    "\n",
    "mydatabase.commit()\n",
    "print(cursor.rowcount, value)"
   ]
  },
  {
   "cell_type": "code",
   "execution_count": 3,
   "metadata": {},
   "outputs": [
    {
     "name": "stdout",
     "output_type": "stream",
     "text": [
      "1 ('01', '1', '22', 'Hispanic', 'Female', '2')\n"
     ]
    }
   ],
   "source": [
    "import mysql.connector\n",
    "\n",
    "mydatabase = mysql.connector.connect(\n",
    "     host= \"127.0.0.1\", \n",
    "     user= \"root\",\n",
    "     password= \"waiwai3232\",\n",
    "     database= \"termproject\")\n",
    "\n",
    "cursor = mydatabase.cursor()\n",
    "\n",
    "# Based on the study of 'Mental Health and academic success in college' Percentage of student suffering from depression, panic disorder, eating disorder and anxiety\n",
    "\n",
    "sql_query = \"INSERT INTO STUDENTs(STUDENT_ID,MENTAL_HEALTH_ID,AGE,RACE,GENDER,GPA) VALUES (%s,%s,%s,%s,%s,%s)\"\n",
    "value =(\"01\",\"1\",\"22\",\"Hispanic\",\"Female\",\"2\") \n",
    "cursor.execute(sql_query, value)\n",
    "\n",
    "mydatabase.commit()\n",
    "print(cursor.rowcount, value)"
   ]
  },
  {
   "cell_type": "markdown",
   "metadata": {},
   "source": [
    "# Question 12:  Develop 4 queries and implement a Python program to retrieve results from your MySQL database"
   ]
  },
  {
   "cell_type": "code",
   "execution_count": 3,
   "metadata": {},
   "outputs": [
    {
     "name": "stdout",
     "output_type": "stream",
     "text": [
      "('1', '11', '111', '14', '2', '8', '3')\n"
     ]
    }
   ],
   "source": [
    "import mysql.connector\n",
    "\n",
    "mydatabase = mysql.connector.connect(\n",
    "     host= \"127.0.0.1\", \n",
    "     user= \"root\",\n",
    "     password= \"waiwai3232\",\n",
    "     database= \"termproject\")\n",
    "\n",
    "cursor = mydatabase.cursor()\n",
    "\n",
    "sql = \"SELECT * FROM MENTAL_PROBLEM WHERE SERVICE_ID ='11'\"\n",
    "\n",
    "   # Execute the SQL command\n",
    "cursor.execute(sql)\n",
    "   # Fetch all the rows in a list of lists.\n",
    "results = cursor.fetchall()\n",
    "for x in results:\n",
    "    print(x)"
   ]
  },
  {
   "cell_type": "code",
   "execution_count": 4,
   "metadata": {},
   "outputs": [
    {
     "name": "stdout",
     "output_type": "stream",
     "text": [
      "('001', '0001', '110', 'Emergency Phone Numbers', 'MIT Medical Student Mental Health and Counseling,Massachusetts General Hospital Acute Psychiatric Services,Cambridge Health Alliance', 'Mental health and substance abuse benefits for MIT students,Mental health and substance abuse benefits for MIT employees,Ulifeline.org,Go Ask Alice!,MedlinePlus')\n"
     ]
    }
   ],
   "source": [
    "import mysql.connector\n",
    "\n",
    "mydatabase = mysql.connector.connect(\n",
    "     host= \"127.0.0.1\", \n",
    "     user= \"root\",\n",
    "     password= \"waiwai3232\",\n",
    "     database= \"termproject\")\n",
    "\n",
    "cursor = mydatabase.cursor()\n",
    "\n",
    "sql = \"SELECT * FROM Re_sources ORDER BY RESOURCE_DESCRIPTION\"\n",
    "\n",
    "   # Execute the SQL command\n",
    "cursor.execute(sql)\n",
    "   # Fetch all the rows in a list of lists.\n",
    "results = cursor.fetchall()\n",
    "for x in results:\n",
    "    print(x)"
   ]
  },
  {
   "cell_type": "code",
   "execution_count": 3,
   "metadata": {},
   "outputs": [
    {
     "name": "stdout",
     "output_type": "stream",
     "text": [
      "[('11', '01', '1', 'comprehensive', 'Student Mental Health & Counseling', 'Routine physicals,Diagnosis and treatment of illnesses,Management of chronic conditions,Routine health screenings,Preventive care,Care coordination', 'MIT Pharmacy serves')]\n"
     ]
    }
   ],
   "source": [
    "import mysql.connector\n",
    "\n",
    "mydatabase = mysql.connector.connect(\n",
    "     host= \"127.0.0.1\", \n",
    "     user= \"root\",\n",
    "     password= \"waiwai3232\",\n",
    "     database= \"termproject\")\n",
    "\n",
    "cursor = mydatabase.cursor()\n",
    "\n",
    "# To get the information about the available services \n",
    "sql = \"SELECT * FROM SERVICE\"\n",
    "\n",
    "   # Execute the SQL command\n",
    "cursor.execute(sql)\n",
    "   # Fetch all the rows in a list of lists.\n",
    "results = cursor.fetchall()\n",
    "print(results)"
   ]
  },
  {
   "cell_type": "code",
   "execution_count": 4,
   "metadata": {},
   "outputs": [
    {
     "name": "stdout",
     "output_type": "stream",
     "text": [
      "[('001', '0001', '110', 'Emergency Phone Numbers', 'MIT Medical Student Mental Health and Counseling,Massachusetts General Hospital Acute Psychiatric Services,Cambridge Health Alliance', 'Mental health and substance abuse benefits for MIT students,Mental health and substance abuse benefits for MIT employees,Ulifeline.org,Go Ask Alice!,MedlinePlus')]\n"
     ]
    }
   ],
   "source": [
    "import mysql.connector\n",
    "\n",
    "mydatabase = mysql.connector.connect(\n",
    "     host= \"127.0.0.1\", \n",
    "     user= \"root\",\n",
    "     password= \"waiwai3232\",\n",
    "     database= \"termproject\")\n",
    "\n",
    "cursor = mydatabase.cursor()\n",
    "\n",
    "# users can limit the result by entering the row number. \n",
    "sql = \"SELECT* FROM Re_sources LIMIT 1\"\n",
    "\n",
    "   # Execute the SQL command\n",
    "cursor.execute(sql)\n",
    "   # Fetch all the rows in a list of lists.\n",
    "results = cursor.fetchall()\n",
    "print(results)"
   ]
  },
  {
   "cell_type": "code",
   "execution_count": null,
   "metadata": {},
   "outputs": [],
   "source": []
  }
 ],
 "metadata": {
  "kernelspec": {
   "display_name": "Python 3",
   "language": "python",
   "name": "python3"
  },
  "language_info": {
   "codemirror_mode": {
    "name": "ipython",
    "version": 3
   },
   "file_extension": ".py",
   "mimetype": "text/x-python",
   "name": "python",
   "nbconvert_exporter": "python",
   "pygments_lexer": "ipython3",
   "version": "3.7.3"
  }
 },
 "nbformat": 4,
 "nbformat_minor": 2
}
